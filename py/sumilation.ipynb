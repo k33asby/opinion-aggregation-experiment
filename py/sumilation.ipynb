{
 "cells": [
  {
   "cell_type": "markdown",
   "metadata": {},
   "source": [
    "### library import"
   ]
  },
  {
   "cell_type": "code",
   "execution_count": 70,
   "metadata": {
    "collapsed": true
   },
   "outputs": [],
   "source": [
    "import numpy as np\n",
    "import scipy.misc as scm\n",
    "import math\n",
    "import random\n",
    "\n",
    "%matplotlib inline\n",
    "import matplotlib.pyplot as plt\n",
    "import seaborn as sns"
   ]
  },
  {
   "cell_type": "markdown",
   "metadata": {},
   "source": [
    "### modelingクラス"
   ]
  },
  {
   "cell_type": "code",
   "execution_count": 73,
   "metadata": {},
   "outputs": [],
   "source": [
    "class Modeling:\n",
    "\n",
    "    def __init__(self, people_num, possibility_correct, lambda_poisson, repeat, weight):\n",
    "        self.people_num = people_num\n",
    "        self.people_half = self.half_num(people_num)\n",
    "        self.possibility_correct = possibility_correct\n",
    "        self.lambda_poisson = lambda_poisson\n",
    "        self.correcting_deadline = lambda_poisson * 2\n",
    "        self.repeat = repeat\n",
    "        self.poisson = np.random.poisson(lambda_poisson, 1000000)\n",
    "        self.weight = float(weight)\n",
    "\n",
    "    def half_num(self,num):\n",
    "        return math.ceil(float(num) / 2)\n",
    "\n",
    "    def simulate_when_people_come_list(self, people_num):\n",
    "        when_people_come = [0] * self.correcting_deadline\n",
    "        for t in range(people_num):\n",
    "            when_people_come[t] = 1\n",
    "        random.shuffle(when_people_come)\n",
    "        return when_people_come\n",
    "\n",
    "    def deciding_by_first_person_with_poisson(self, possibility_correct):\n",
    "        temp_method_utility = 0\n",
    "        for n in range(self.repeat):\n",
    "            people_num = self.poisson[n] # ポアソン分布したがって来る人数\n",
    "            when_people_come = self.simulate_when_people_come_list(people_num)\n",
    "            method_utility = 0\n",
    "            for i in range(len(when_people_come)):\n",
    "                if when_people_come[i] == 0:\n",
    "                    continue\n",
    "                else:\n",
    "                    method_utility += possibility_correct - self.weight * (float(i) / self.correcting_deadline)\n",
    "                    break\n",
    "            temp_method_utility += method_utility\n",
    "        average_method_utility = temp_method_utility / self.repeat\n",
    "        return average_method_utility\n",
    "\n",
    "    def test(self):\n",
    "            s = np.random.poisson(50, 10000000)\n",
    "            print(s[9000000])\n",
    "            count, bins, ignored = plt.hist(s, 14, normed=True)\n",
    "            plt.show()\n"
   ]
  },
  {
   "cell_type": "code",
   "execution_count": 80,
   "metadata": {},
   "outputs": [
    {
     "data": {
      "text/plain": [
       "0.8925000000000001"
      ]
     },
     "execution_count": 80,
     "metadata": {},
     "output_type": "execute_result"
    }
   ],
   "source": [
    "model = Modeling(5,0.9, 50, 10,0.5)\n",
    "model.deciding_by_first_person_with_poisson(0.9)"
   ]
  },
  {
   "cell_type": "code",
   "execution_count": null,
   "metadata": {
    "collapsed": true
   },
   "outputs": [],
   "source": []
  },
  {
   "cell_type": "code",
   "execution_count": null,
   "metadata": {
    "collapsed": true
   },
   "outputs": [],
   "source": []
  },
  {
   "cell_type": "code",
   "execution_count": null,
   "metadata": {
    "collapsed": true
   },
   "outputs": [],
   "source": []
  },
  {
   "cell_type": "code",
   "execution_count": null,
   "metadata": {
    "collapsed": true
   },
   "outputs": [],
   "source": []
  }
 ],
 "metadata": {
  "kernelspec": {
   "display_name": "Python 3",
   "language": "python",
   "name": "python3"
  },
  "language_info": {
   "codemirror_mode": {
    "name": "ipython",
    "version": 2
   },
   "file_extension": ".py",
   "mimetype": "text/x-python",
   "name": "python",
   "nbconvert_exporter": "python",
   "pygments_lexer": "ipython2",
   "version": "2.7.14"
  }
 },
 "nbformat": 4,
 "nbformat_minor": 2
}
