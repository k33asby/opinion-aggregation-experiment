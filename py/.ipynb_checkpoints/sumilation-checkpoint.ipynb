{
 "cells": [
  {
   "cell_type": "markdown",
   "metadata": {},
   "source": [
    "### library import"
   ]
  },
  {
   "cell_type": "code",
   "execution_count": 24,
   "metadata": {
    "collapsed": true
   },
   "outputs": [],
   "source": [
    "import numpy as np\n",
    "import scipy.misc as scm\n",
    "from scipy.stats import poisson\n",
    "import scipy.integrate as integrate\n",
    "import math\n",
    "import random\n",
    "\n",
    "%matplotlib inline\n",
    "import matplotlib.pyplot as plt\n",
    "import seaborn as sns"
   ]
  },
  {
   "cell_type": "markdown",
   "metadata": {},
   "source": [
    "### Modelingクラス"
   ]
  },
  {
   "cell_type": "code",
   "execution_count": 25,
   "metadata": {
    "collapsed": true
   },
   "outputs": [],
   "source": [
    "class Modeling:\n",
    "\n",
    "    # ------------------理論に基づいた実装を行う------------------\n",
    "\n",
    "    # 1,準備\n",
    "\n",
    "    # Poisson過程\n",
    "    # 単位時間あたりの到着数 λ\n",
    "    # 時刻tまでにn人が到着する確率\n",
    "    def poisson_possibility(self, n, t, lambda_poisson):\n",
    "        return math.e**(-lambda_poisson * t) * (lambda_poisson * t)**n / math.factorial(n)\n",
    "\n",
    "    # Gamma分布\n",
    "    # 時刻tにn人目が到着する確率\n",
    "    def gamma_possibility(self, n, t, lambda_poisson):\n",
    "        return lambda_poisson**n * t**(n - 1) * math.e**(-lambda_poisson * t) / math.factorial(n - 1)\n",
    "\n",
    "    # 多数決による判定精度\n",
    "    # n人で多数決を行う場合の判定精度をacc(n)で表す\n",
    "    # 個人の判定精度をpとする\n",
    "    def acc_odd(self, n, p): # nが奇数2i-1のとき\n",
    "        i = int((n + 1) / 2)\n",
    "        acc = 0\n",
    "        for j in range(i):\n",
    "            acc += scm.comb(2 * i - 1, j) * p**(2 * i - 1 - j) * (1 - p)**j\n",
    "        return acc\n",
    "\n",
    "    def acc_even(self, n, p): # nが偶数2iのとき\n",
    "        i = int(n / 2)\n",
    "        acc = 0\n",
    "        for j in range(i):\n",
    "            acc += scm.comb(2 * i, j) * p**(2 * i - j) * (1 - p)**j\n",
    "        acc += scm.comb(2 * i, i) * p**i * (1 - p)**i / 2\n",
    "        return acc\n",
    "\n",
    "    def acc(self, n, p):\n",
    "        if n % 2 == 1:\n",
    "            return self.acc_odd(n, p)\n",
    "        else:\n",
    "            return self.acc_even(n, p)\n",
    "\n",
    "    # 2,単純な意見集約法\n",
    "\n",
    "    # 2.1,時刻優先意見集約法\n",
    "    # 時刻tまで待って多数決を行う\n",
    "    # 効用を予測精度と所要時間の差で表す\n",
    "    def time_priority_method(self, t, w, p, lambda_poisson):\n",
    "        if t == 0: return 0 \n",
    "        utility = 0\n",
    "        for i in range(1, lambda_poisson * t, 1):\n",
    "            utility += self.poisson_possibility(2 * i - 1, t, lambda_poisson) * self.acc_odd(2 * i - 1, p)\n",
    "            utility += self.poisson_possibility(2 * i, t, lambda_poisson) * self.acc_even(2 * i, p)\n",
    "        utility -= w * t\n",
    "        return utility\n",
    "\n",
    "    # 増減を調べる\n",
    "    def inc_and_dec_time_priority_method(self, w, p, lambda_poisson):\n",
    "        for t in range(1, 1000):\n",
    "            diff = self.time_priority_method(t + 1, w, p, lambda_poisson) - self.time_priority_method(t, w, p, lambda_poisson)\n",
    "            if diff < 0: return t\n",
    "\n",
    "    # 2.2, 投票数優先意見集約法\n",
    "    # n人集まるまで待って多数決を行う\n",
    "    # 効用を予測精度と所要時間の差で表す\n",
    "    def poll_priority_method(self, n, w, p, lambda_poisson):\n",
    "        if n == 0: return 0\n",
    "        utility = 0\n",
    "        utility += self.acc(n, p)\n",
    "        # 積分を行う\n",
    "        value, abserr = integrate.quad(lambda t: w * t * self.gamma_possibility(n, t, lambda_poisson), 0, 1000)\n",
    "        utility -= value\n",
    "        return utility\n",
    "\n",
    "    # 2.3, 得票数優先意見集約法\n",
    "    # 先にk票集まった案に決定する\n",
    "    # 効用を予測精度と所要時間の差で表す\n",
    "    def vote_priority_method(self, k, w, p, lambda_poisson):\n",
    "        if k == 0: return 0\n",
    "        utility = 0\n",
    "        for j in range(k, 2 * k):\n",
    "            temp_possibility = scm.comb(j - 1, j - k) * p**(k - 1) * (1 - p)**(j - k) * p\n",
    "            # 積分を行う\n",
    "            value, abserr = integrate.quad(lambda t: w * t * self.gamma_possibility(j, t, lambda_poisson), 0, 1000)\n",
    "            utility += temp_possibility * (1 - value)\n",
    "        return utility\n",
    "    \n",
    "    # 3, 組み合わせ意見集約法\n",
    "    # 方法1, 時刻T1まで待つ\n",
    "    # 方法2, 投票者数がnに達すれば判定し終了、達しなければT1まで待つ\n",
    "    # 方法3, 時刻T2(=< T1)までに投票者数がnに達すれば判定し終了、達しなければT1まで待つ(T2 = T1とすれば方法2と方法3は同じ)\n",
    "    # 方法4, 得票者数がkに達すれば判定し終了、達しなければT1まで待つ\n",
    "    # 方法5, 時間T2(=< T1)までに得票者数がkに達すれば判定を終了し、達しなければT1まで待つ (T2 = T1とすれば方法4と方法5は同じ)\n",
    "\n",
    "    # 方法1(時刻優先意見集約法と同じ)\n",
    "    def method1(self, t, w, p, lambda_poisson):\n",
    "        return self.time_priority_method(t, w, p, lambda_poisson)\n",
    "\n",
    "    # 方法2\n",
    "    def method2(self, t1, n, w, p, lambda_poisson):\n",
    "        if n == 0: return 0\n",
    "        utility = 0\n",
    "        for i in range(0, n):\n",
    "            utility += self.poisson_possibility(i, t1, lambda_poisson) * (self.acc(i, p) - w * t1)\n",
    "        # 積分を行う\n",
    "        value, abserr = integrate.quad(lambda t: (self.acc(n, p) - w * t) * self.gamma_possibility(n, t, lambda_poisson), 0, t1)\n",
    "        utility += value\n",
    "        # 以下は必要か不明(おそらく不要)\n",
    "        # for i in range(n + 1, 100):\n",
    "        #     utility += self.poisson_possibility(i, t1, lambda_poisson) * (self.acc(n, p) - w * t1)\n",
    "        return utility\n",
    "\n",
    "    # 増減を調べる\n",
    "    def inc_and_dec_time_method2(self, t1, w, p, lambda_poisson):\n",
    "        for n in range(1, 50):\n",
    "            diff = self.method2(t1, 2 * n + 1, w, p, lambda_poisson) - self.method2(t1, 2 * n - 1, w, p, lambda_poisson)\n",
    "            if diff < 0:\n",
    "                return 2 * n - 1\n",
    "    \n",
    "    # 方法3 時刻T2(=< T1)までに投票者数がnに達すれば判定し終了、達しなければT1まで待つ(T2 = T1とすれば方法2と方法3は同じ)\n",
    "    def method3(self, t1, t2, n, w, p, lambda_poisson):\n",
    "        if n == 0: return 0\n",
    "        utility = 0\n",
    "        for i in range(0, n):\n",
    "            utility += self.poisson_possibility(i, t2, lambda_poisson) * (self.acc(i, p) - w * t2)\n",
    "        # 積分を行う\n",
    "        value, abserr = integrate.quad(lambda t: (self.acc(n, p) - w * t) * self.gamma_possibility(n, t, lambda_poisson), 0, t1)\n",
    "        utility += value\n",
    "        return utility\n",
    "    \n",
    "    # 方法4 得票者数がkに達すれば判定し終了、達しなければT1まで待つ\n",
    "    def method4(self, t1, k, w, p, lambda_poisson):\n",
    "        if k == 0: return 0\n",
    "        utility = 0\n",
    "        temp_integrand = 0\n",
    "        # ----被積分関数を定義----\n",
    "        def integrand_for_method4(self, t):\n",
    "            integrand = 0\n",
    "            for j in range(k, 2 * k):\n",
    "                temp_possibility = scm.comb(j - 1, j - k) * p**(k - 1) * (1 - p)**(j - k) * p\n",
    "                integrand += self.gamma_possibility(j, t, lambda_poisson) * temp_possibility * (1 - w * t)\n",
    "            return integrand\n",
    "        # --------終わり--------\n",
    "        for i in range(0, k):\n",
    "            for j in range(i, 2 * i):\n",
    "                temp_possibility = scm.comb(j - 1, j - i) * p**(i - 1) * (1 - p)**(j - i) * p\n",
    "                utility += self.poisson_possibility(i, t1, lambda_poisson) * temp_possibility * (1 - w * t1)\n",
    "        #積分を行う\n",
    "        value, abserr = integrate.quad(integrand_for_method4, 0, t1)\n",
    "        utility += value\n",
    "        return utility\n",
    "\n"
   ]
  },
  {
   "cell_type": "markdown",
   "metadata": {},
   "source": [
    "### PlotGraphクラス"
   ]
  },
  {
   "cell_type": "code",
   "execution_count": 26,
   "metadata": {
    "collapsed": true
   },
   "outputs": [],
   "source": [
    "class PlotGraph:\n",
    "    \n",
    "    def __init__(self):\n",
    "        sns.set_style(\"whitegrid\")\n",
    "    \n",
    "    # ---------------------以下は理論に基づいた実装に対するグラフメソッド---------------------\n",
    "    def plot_poisson(self, time, lambda_poisson):\n",
    "        x_axis = np.linspace(0, 2 * time * lambda_poisson, 2 * time * lambda_poisson + 1)\n",
    "        y_axis = []\n",
    "        for x in x_axis:\n",
    "            y_axis.append(m.poisson_possibility(x, time, lambda_poisson))\n",
    "        plt.title('poisson time: {0} lambda: {1}'.format(time, lambda_poisson))\n",
    "        plt.xlabel('people')\n",
    "        plt.ylabel('possibility')\n",
    "        plt.plot(x_axis, y_axis)\n",
    "        plt.show()\n",
    "\n",
    "    def plot_gamma(self, people, lambda_poisson):\n",
    "        x_axis = np.linspace(0, 2 * people / lambda_poisson , 2 * people / lambda_poisson + 1)\n",
    "        y_axis = []\n",
    "        for x in x_axis:\n",
    "            y_axis.append(m.gamma_possibility(people, x, lambda_poisson))\n",
    "        plt.title('gamma people: {0} lambda: {1}'.format(people, lambda_poisson))\n",
    "        plt.xlabel('time')\n",
    "        plt.ylabel('possibility')\n",
    "        plt.plot(x_axis, y_axis)\n",
    "        plt.show()\n",
    "    \n",
    "    def plot_time_priority(self, w, p, lambda_poisson):\n",
    "        x_axis = np.linspace(0, 50, 51)\n",
    "        y_axis = [m.time_priority_method(int(x), w, p, lambda_poisson) for x in x_axis]\n",
    "        plt.title('time priority method weight: {0} person_possibility: {1}'.format(w, p))\n",
    "        plt.xlabel('time')\n",
    "        plt.ylabel('utility')\n",
    "        plt.plot(x_axis, y_axis)\n",
    "        plt.show()\n",
    "\n",
    "    def plot_poll_priority(self, w, p, lambda_poisson):\n",
    "        x_axis = np.linspace(0, 50, 51)\n",
    "        y_axis = [m.poll_priority_method(int(x), w, p, lambda_poisson) for x in x_axis]\n",
    "        plt.title('poll priority method weight: {0} person_possibility: {1}'.format(w, p))\n",
    "        plt.xlabel('require poll people')\n",
    "        plt.ylabel('utility')\n",
    "        plt.plot(x_axis, y_axis)\n",
    "        plt.show()\n",
    "\n",
    "    def plot_vote_priority(self, w, p, lambda_poisson):\n",
    "        x_axis = np.linspace(0, 50, 51)\n",
    "        y_axis = [m.poll_priority_method(int(x), w, p, lambda_poisson) for x in x_axis]\n",
    "        plt.title('voge priority method weight: {0} person_possibility: {1}'.format(w, p))\n",
    "        plt.xlabel('require vote people')\n",
    "        plt.ylabel('utility')\n",
    "        plt.plot(x_axis, y_axis)\n",
    "        plt.show()\n",
    "    \n",
    "    def plot_method1(self, w, p, lambda_poisson):\n",
    "        x_axis = np.linspace(0, 50, 51)\n",
    "        y_axis = [m.time_priority_method(int(x), w, p, lambda_poisson) for x in x_axis]\n",
    "        plt.title('method1 weight: {0} person_possibility: {1}'.format(w, p))\n",
    "        plt.xlabel('time')\n",
    "        plt.ylabel('utility')\n",
    "        plt.plot(x_axis, y_axis)\n",
    "        plt.show()\n",
    "\n",
    "    def plot_method2(self, t1, w, p, lambda_poisson):\n",
    "        x_axis = np.linspace(0, 50, 51)\n",
    "        y_axis = [m.method2(t1,int(x), w, p, lambda_poisson) for x in x_axis]\n",
    "        plt.title('method2 T1: {0} weight: {1} person_possibility: {2}'.format(t1, w, p))\n",
    "        plt.xlabel('poll people')\n",
    "        plt.ylabel('utility')\n",
    "        plt.plot(x_axis, y_axis)\n",
    "        plt.show()\n",
    "    \n",
    "    def plot_method3(self, t1, t2, w, p, lambda_poisson):\n",
    "        x_axis = np.linspace(0, 50, 51)\n",
    "        y_axis = [m.method3(t1, t2, int(x), w, p, lambda_poisson) for x in x_axis]\n",
    "        plt.title('method3 T1: {0} T2: {1} weight: {2} person_possibility: {3}'.format(t1, t2, w, p))\n",
    "        plt.xlabel('poll people')\n",
    "        plt.ylabel('utility')\n",
    "        plt.plot(x_axis, y_axis)\n",
    "        plt.show()\n",
    "        \n",
    "    def plot_method4(self, t1, w, p, lambda_poisson):\n",
    "        x_axis = np.linspace(0, 50, 51)\n",
    "        y_axis = [m.method4(t1,int(x), w, p, lambda_poisson) for x in x_axis]\n",
    "        plt.title('method2 T1: {0} weight: {1} person_possibility: {2}'.format(t1, w, p))\n",
    "        plt.xlabel('require vote people')\n",
    "        plt.ylabel('utility')\n",
    "        plt.plot(x_axis, y_axis)\n",
    "        plt.show()\n",
    "\n"
   ]
  },
  {
   "cell_type": "markdown",
   "metadata": {},
   "source": [
    "### main"
   ]
  },
  {
   "cell_type": "code",
   "execution_count": 30,
   "metadata": {},
   "outputs": [
    {
     "data": {
      "image/png": "[encoded data removed]",
      "text/plain": [
       "<matplotlib.figure.Figure at 0x1a1edeb7d0>"
      ]
     },
     "metadata": {},
     "output_type": "display_data"
    },
    {
     "data": {
      "image/png": "[encoded data removed]",
      "text/plain": [
       "<matplotlib.figure.Figure at 0x113f09f10>"
      ]
     },
     "metadata": {},
     "output_type": "display_data"
    },
    {
     "data": {
      "image/png": "[encoded data removed]",
      "text/plain": [
       "<matplotlib.figure.Figure at 0x113f097d0>"
      ]
     },
     "metadata": {},
     "output_type": "display_data"
    },
    {
     "ename": "TypeError",
     "evalue": "integrand_for_method4() takes exactly 2 arguments (1 given)",
     "output_type": "error",
     "traceback": [
      "\u001b[0;31m---------------------------------------------------------------------------\u001b[0m",
      "\u001b[0;31mTypeError\u001b[0m                                 Traceback (most recent call last)",
      "\u001b[0;32m<ipython-input-30-8b47f611c046>\u001b[0m in \u001b[0;36m<module>\u001b[0;34m()\u001b[0m\n\u001b[1;32m     11\u001b[0m \u001b[0mpg\u001b[0m\u001b[0;34m.\u001b[0m\u001b[0mplot_method2\u001b[0m\u001b[0;34m(\u001b[0m\u001b[0;36m20\u001b[0m\u001b[0;34m,\u001b[0m \u001b[0;36m0.02\u001b[0m\u001b[0;34m,\u001b[0m \u001b[0;36m0.6\u001b[0m\u001b[0;34m,\u001b[0m \u001b[0;36m1\u001b[0m\u001b[0;34m)\u001b[0m\u001b[0;34m\u001b[0m\u001b[0m\n\u001b[1;32m     12\u001b[0m \u001b[0mpg\u001b[0m\u001b[0;34m.\u001b[0m\u001b[0mplot_method3\u001b[0m\u001b[0;34m(\u001b[0m\u001b[0;36m15\u001b[0m\u001b[0;34m,\u001b[0m \u001b[0;36m10\u001b[0m\u001b[0;34m,\u001b[0m \u001b[0;36m0.02\u001b[0m\u001b[0;34m,\u001b[0m \u001b[0;36m0.6\u001b[0m\u001b[0;34m,\u001b[0m \u001b[0;36m1\u001b[0m\u001b[0;34m)\u001b[0m\u001b[0;34m\u001b[0m\u001b[0m\n\u001b[0;32m---> 13\u001b[0;31m \u001b[0mpg\u001b[0m\u001b[0;34m.\u001b[0m\u001b[0mplot_method4\u001b[0m\u001b[0;34m(\u001b[0m\u001b[0;36m20\u001b[0m\u001b[0;34m,\u001b[0m \u001b[0;36m0.02\u001b[0m\u001b[0;34m,\u001b[0m \u001b[0;36m0.6\u001b[0m\u001b[0;34m,\u001b[0m \u001b[0;36m1\u001b[0m\u001b[0;34m)\u001b[0m\u001b[0;34m\u001b[0m\u001b[0m\n\u001b[0m",
      "\u001b[0;32m<ipython-input-26-08523a556cdb>\u001b[0m in \u001b[0;36mplot_method4\u001b[0;34m(self, t1, w, p, lambda_poisson)\u001b[0m\n\u001b[1;32m     83\u001b[0m     \u001b[0;32mdef\u001b[0m \u001b[0mplot_method4\u001b[0m\u001b[0;34m(\u001b[0m\u001b[0mself\u001b[0m\u001b[0;34m,\u001b[0m \u001b[0mt1\u001b[0m\u001b[0;34m,\u001b[0m \u001b[0mw\u001b[0m\u001b[0;34m,\u001b[0m \u001b[0mp\u001b[0m\u001b[0;34m,\u001b[0m \u001b[0mlambda_poisson\u001b[0m\u001b[0;34m)\u001b[0m\u001b[0;34m:\u001b[0m\u001b[0;34m\u001b[0m\u001b[0m\n\u001b[1;32m     84\u001b[0m         \u001b[0mx_axis\u001b[0m \u001b[0;34m=\u001b[0m \u001b[0mnp\u001b[0m\u001b[0;34m.\u001b[0m\u001b[0mlinspace\u001b[0m\u001b[0;34m(\u001b[0m\u001b[0;36m0\u001b[0m\u001b[0;34m,\u001b[0m \u001b[0;36m50\u001b[0m\u001b[0;34m,\u001b[0m \u001b[0;36m51\u001b[0m\u001b[0;34m)\u001b[0m\u001b[0;34m\u001b[0m\u001b[0m\n\u001b[0;32m---> 85\u001b[0;31m         \u001b[0my_axis\u001b[0m \u001b[0;34m=\u001b[0m \u001b[0;34m[\u001b[0m\u001b[0mm\u001b[0m\u001b[0;34m.\u001b[0m\u001b[0mmethod4\u001b[0m\u001b[0;34m(\u001b[0m\u001b[0mt1\u001b[0m\u001b[0;34m,\u001b[0m\u001b[0mint\u001b[0m\u001b[0;34m(\u001b[0m\u001b[0mx\u001b[0m\u001b[0;34m)\u001b[0m\u001b[0;34m,\u001b[0m \u001b[0mw\u001b[0m\u001b[0;34m,\u001b[0m \u001b[0mp\u001b[0m\u001b[0;34m,\u001b[0m \u001b[0mlambda_poisson\u001b[0m\u001b[0;34m)\u001b[0m \u001b[0;32mfor\u001b[0m \u001b[0mx\u001b[0m \u001b[0;32min\u001b[0m \u001b[0mx_axis\u001b[0m\u001b[0;34m]\u001b[0m\u001b[0;34m\u001b[0m\u001b[0m\n\u001b[0m\u001b[1;32m     86\u001b[0m         \u001b[0mplt\u001b[0m\u001b[0;34m.\u001b[0m\u001b[0mtitle\u001b[0m\u001b[0;34m(\u001b[0m\u001b[0;34m'method2 T1: {0} weight: {1} person_possibility: {2}'\u001b[0m\u001b[0;34m.\u001b[0m\u001b[0mformat\u001b[0m\u001b[0;34m(\u001b[0m\u001b[0mt1\u001b[0m\u001b[0;34m,\u001b[0m \u001b[0mw\u001b[0m\u001b[0;34m,\u001b[0m \u001b[0mp\u001b[0m\u001b[0;34m)\u001b[0m\u001b[0;34m)\u001b[0m\u001b[0;34m\u001b[0m\u001b[0m\n\u001b[1;32m     87\u001b[0m         \u001b[0mplt\u001b[0m\u001b[0;34m.\u001b[0m\u001b[0mxlabel\u001b[0m\u001b[0;34m(\u001b[0m\u001b[0;34m'require vote people'\u001b[0m\u001b[0;34m)\u001b[0m\u001b[0;34m\u001b[0m\u001b[0m\n",
      "\u001b[0;32m<ipython-input-25-ac816d38472c>\u001b[0m in \u001b[0;36mmethod4\u001b[0;34m(self, t1, k, w, p, lambda_poisson)\u001b[0m\n\u001b[1;32m    146\u001b[0m                 \u001b[0mutility\u001b[0m \u001b[0;34m+=\u001b[0m \u001b[0mself\u001b[0m\u001b[0;34m.\u001b[0m\u001b[0mpoisson_possibility\u001b[0m\u001b[0;34m(\u001b[0m\u001b[0mi\u001b[0m\u001b[0;34m,\u001b[0m \u001b[0mt1\u001b[0m\u001b[0;34m,\u001b[0m \u001b[0mlambda_poisson\u001b[0m\u001b[0;34m)\u001b[0m \u001b[0;34m*\u001b[0m \u001b[0mtemp_possibility\u001b[0m \u001b[0;34m*\u001b[0m \u001b[0;34m(\u001b[0m\u001b[0;36m1\u001b[0m \u001b[0;34m-\u001b[0m \u001b[0mw\u001b[0m \u001b[0;34m*\u001b[0m \u001b[0mt1\u001b[0m\u001b[0;34m)\u001b[0m\u001b[0;34m\u001b[0m\u001b[0m\n\u001b[1;32m    147\u001b[0m         \u001b[0;31m#積分を行う\u001b[0m\u001b[0;34m\u001b[0m\u001b[0;34m\u001b[0m\u001b[0m\n\u001b[0;32m--> 148\u001b[0;31m         \u001b[0mvalue\u001b[0m\u001b[0;34m,\u001b[0m \u001b[0mabserr\u001b[0m \u001b[0;34m=\u001b[0m \u001b[0mintegrate\u001b[0m\u001b[0;34m.\u001b[0m\u001b[0mquad\u001b[0m\u001b[0;34m(\u001b[0m\u001b[0mintegrand_for_method4\u001b[0m\u001b[0;34m,\u001b[0m \u001b[0;36m0\u001b[0m\u001b[0;34m,\u001b[0m \u001b[0mt1\u001b[0m\u001b[0;34m)\u001b[0m\u001b[0;34m\u001b[0m\u001b[0m\n\u001b[0m\u001b[1;32m    149\u001b[0m         \u001b[0mutility\u001b[0m \u001b[0;34m+=\u001b[0m \u001b[0mvalue\u001b[0m\u001b[0;34m\u001b[0m\u001b[0m\n\u001b[1;32m    150\u001b[0m         \u001b[0;32mreturn\u001b[0m \u001b[0mutility\u001b[0m\u001b[0;34m\u001b[0m\u001b[0m\n",
      "\u001b[0;32m/Users/kotaro/anaconda2/lib/python2.7/site-packages/scipy/integrate/quadpack.pyc\u001b[0m in \u001b[0;36mquad\u001b[0;34m(func, a, b, args, full_output, epsabs, epsrel, limit, points, weight, wvar, wopts, maxp1, limlst)\u001b[0m\n\u001b[1;32m    321\u001b[0m     \u001b[0;32mif\u001b[0m \u001b[0;34m(\u001b[0m\u001b[0mweight\u001b[0m \u001b[0;32mis\u001b[0m \u001b[0mNone\u001b[0m\u001b[0;34m)\u001b[0m\u001b[0;34m:\u001b[0m\u001b[0;34m\u001b[0m\u001b[0m\n\u001b[1;32m    322\u001b[0m         retval = _quad(func, a, b, args, full_output, epsabs, epsrel, limit,\n\u001b[0;32m--> 323\u001b[0;31m                        points)\n\u001b[0m\u001b[1;32m    324\u001b[0m     \u001b[0;32melse\u001b[0m\u001b[0;34m:\u001b[0m\u001b[0;34m\u001b[0m\u001b[0m\n\u001b[1;32m    325\u001b[0m         retval = _quad_weight(func, a, b, args, full_output, epsabs, epsrel,\n",
      "\u001b[0;32m/Users/kotaro/anaconda2/lib/python2.7/site-packages/scipy/integrate/quadpack.pyc\u001b[0m in \u001b[0;36m_quad\u001b[0;34m(func, a, b, args, full_output, epsabs, epsrel, limit, points)\u001b[0m\n\u001b[1;32m    386\u001b[0m     \u001b[0;32mif\u001b[0m \u001b[0mpoints\u001b[0m \u001b[0;32mis\u001b[0m \u001b[0mNone\u001b[0m\u001b[0;34m:\u001b[0m\u001b[0;34m\u001b[0m\u001b[0m\n\u001b[1;32m    387\u001b[0m         \u001b[0;32mif\u001b[0m \u001b[0minfbounds\u001b[0m \u001b[0;34m==\u001b[0m \u001b[0;36m0\u001b[0m\u001b[0;34m:\u001b[0m\u001b[0;34m\u001b[0m\u001b[0m\n\u001b[0;32m--> 388\u001b[0;31m             \u001b[0;32mreturn\u001b[0m \u001b[0m_quadpack\u001b[0m\u001b[0;34m.\u001b[0m\u001b[0m_qagse\u001b[0m\u001b[0;34m(\u001b[0m\u001b[0mfunc\u001b[0m\u001b[0;34m,\u001b[0m\u001b[0ma\u001b[0m\u001b[0;34m,\u001b[0m\u001b[0mb\u001b[0m\u001b[0;34m,\u001b[0m\u001b[0margs\u001b[0m\u001b[0;34m,\u001b[0m\u001b[0mfull_output\u001b[0m\u001b[0;34m,\u001b[0m\u001b[0mepsabs\u001b[0m\u001b[0;34m,\u001b[0m\u001b[0mepsrel\u001b[0m\u001b[0;34m,\u001b[0m\u001b[0mlimit\u001b[0m\u001b[0;34m)\u001b[0m\u001b[0;34m\u001b[0m\u001b[0m\n\u001b[0m\u001b[1;32m    389\u001b[0m         \u001b[0;32melse\u001b[0m\u001b[0;34m:\u001b[0m\u001b[0;34m\u001b[0m\u001b[0m\n\u001b[1;32m    390\u001b[0m             \u001b[0;32mreturn\u001b[0m \u001b[0m_quadpack\u001b[0m\u001b[0;34m.\u001b[0m\u001b[0m_qagie\u001b[0m\u001b[0;34m(\u001b[0m\u001b[0mfunc\u001b[0m\u001b[0;34m,\u001b[0m\u001b[0mbound\u001b[0m\u001b[0;34m,\u001b[0m\u001b[0minfbounds\u001b[0m\u001b[0;34m,\u001b[0m\u001b[0margs\u001b[0m\u001b[0;34m,\u001b[0m\u001b[0mfull_output\u001b[0m\u001b[0;34m,\u001b[0m\u001b[0mepsabs\u001b[0m\u001b[0;34m,\u001b[0m\u001b[0mepsrel\u001b[0m\u001b[0;34m,\u001b[0m\u001b[0mlimit\u001b[0m\u001b[0;34m)\u001b[0m\u001b[0;34m\u001b[0m\u001b[0m\n",
      "\u001b[0;31mTypeError\u001b[0m: integrand_for_method4() takes exactly 2 arguments (1 given)"
     ]
    }
   ],
   "source": [
    "sns.set_style(\"whitegrid\")\n",
    "m = Modeling()\n",
    "pg = PlotGraph()\n",
    "\n",
    "# pg.plot_poisson(5,5)\n",
    "# pg.plot_gamma(100,5)\n",
    "# pg.plot_time_priority(0.02, 0.6, 1)\n",
    "# pg.plot_poll_priority(0.02, 0.6, 1)\n",
    "# pg.plot_vote_priority(0.02, 0.6, 1)\n",
    "# pg.plot_method1(0.02, 0.6, 1)\n",
    "# pg.plot_method2(20, 0.02, 0.6, 1)\n",
    "# pg.plot_method3(15, 10, 0.02, 0.6, 1)\n",
    "pg.plot_method4(20, 0.02, 0.6, 1)\n"
   ]
  },
  {
   "cell_type": "code",
   "execution_count": 28,
   "metadata": {
    "collapsed": true
   },
   "outputs": [],
   "source": [
    "# sns.set_style(\"whitegrid\")\n",
    "# pg = PlotGraph(50, 2)\n",
    "# pg.plot_error_possibility_graph(5)\n",
    "# pg.plot_error_possibility_graph_by_people_num()\n",
    "# pg.plot_utility_possibility_average_graph(11, 13, 17, 0.5)\n",
    "# pg.plot_utility_possibility_variance_graph(11, 13, 17, 0.5)\n",
    "# pg.plot_utility_weight_average_graph(0.7, 11, 13, 17)\n",
    "# pg.plot_utility_weight_variance_graph(0.7, 11, 13, 17)\n",
    "# pg.plot_utility_possibility_average_graph_for_single_method(0.5)\n",
    "# pg.plot_utility_possibility_variance_graph_for_single_method(0.5)\n",
    "# pg.plot_utility_weight_average_graph_with_uniform_distribution(50, 50, 11, 13, 17)\n",
    "# pg.plot_utility_weight_variance_graph_with_uniform_distribution(50, 50, 11, 13, 17)\n",
    "# pg.plot_utility_weight_average_graph_with_uniform_distribution_for_single_method(50, 50)\n",
    "# pg.plot_utility_weight_variance_graph_with_uniform_distribution_for_single_method(50, 50)"
   ]
  },
  {
   "cell_type": "code",
   "execution_count": null,
   "metadata": {
    "collapsed": true
   },
   "outputs": [],
   "source": []
  },
  {
   "cell_type": "code",
   "execution_count": null,
   "metadata": {
    "collapsed": true
   },
   "outputs": [],
   "source": []
  },
  {
   "cell_type": "code",
   "execution_count": null,
   "metadata": {
    "collapsed": true
   },
   "outputs": [],
   "source": []
  }
 ],
 "metadata": {
  "kernelspec": {
   "display_name": "Python 3",
   "language": "python",
   "name": "python3"
  },
  "language_info": {
   "codemirror_mode": {
    "name": "ipython",
    "version": 2
   },
   "file_extension": ".py",
   "mimetype": "text/x-python",
   "name": "python",
   "nbconvert_exporter": "python",
   "pygments_lexer": "ipython2",
   "version": "2.7.14"
  }
 },
 "nbformat": 4,
 "nbformat_minor": 2
}
