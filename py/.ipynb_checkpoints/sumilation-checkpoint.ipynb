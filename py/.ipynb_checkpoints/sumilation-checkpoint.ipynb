{
 "cells": [
  {
   "cell_type": "markdown",
   "metadata": {},
   "source": [
    "### library import"
   ]
  },
  {
   "cell_type": "code",
   "execution_count": 24,
   "metadata": {
    "collapsed": true
   },
   "outputs": [],
   "source": [
    "import numpy as np\n",
    "import scipy.misc as scm\n",
    "import math\n",
    "import random\n",
    "\n",
    "%matplotlib inline\n",
    "import matplotlib.pyplot as plt\n",
    "import seaborn as sns"
   ]
  },
  {
   "cell_type": "markdown",
   "metadata": {},
   "source": [
    "### modelingクラス"
   ]
  },
  {
   "cell_type": "code",
   "execution_count": 25,
   "metadata": {
    "collapsed": true
   },
   "outputs": [],
   "source": [
    "class Modeling:\n",
    "\n",
    "    def __init__(self,lambda_poisson, repeat, weight):\n",
    "        self.lambda_poisson = lambda_poisson\n",
    "        self.collecting_deadline = lambda_poisson * 2\n",
    "        self.repeat = repeat\n",
    "        self.poisson = np.random.poisson(lambda_poisson, 1000)\n",
    "        self.weight = float(weight)\n",
    "\n",
    "    def half_num(self,num):\n",
    "        return int(math.ceil(float(num) / 2))\n",
    "\n",
    "    def simulate_when_people_come_list(self, people_num):\n",
    "        when_people_come = [0] * self.collecting_deadline\n",
    "        for t in range(people_num):\n",
    "            when_people_come[t] = 1\n",
    "        random.shuffle(when_people_come)\n",
    "        return when_people_come\n",
    "\n",
    "    def relative_error_by_majority_vote(self, people_num, possibility_correct):\n",
    "        half_num = self.half_num(people_num)\n",
    "        relative_error = 0\n",
    "        for t in range(half_num):\n",
    "            relative_error += (possibility_correct**t) * ((1 - possibility_correct)**(people_num - t)) * scm.comb(people_num, t)\n",
    "        return relative_error\n",
    "\n",
    "    def relative_error_array_by_half_opinion(self, finish_num, possibility_correct):\n",
    "        relative_error = []\n",
    "        for t in range(finish_num):\n",
    "            relative_error.append(((1 - possibility_correct)**finish_num) * (possibility_correct**t) * scm.comb(finish_num - 1 + t, t))\n",
    "        return relative_error\n",
    "\n",
    "    def deciding_by_first_person_with_poisson(self, possibility_correct):\n",
    "        temp_method_utility = 0\n",
    "        for n in range(self.repeat):\n",
    "            people_num = self.poisson[n] # ポアソン分布したがって来る人数\n",
    "            when_people_come = self.simulate_when_people_come_list(people_num)\n",
    "            method_utility = 0\n",
    "            for i in range(len(when_people_come)):\n",
    "                if when_people_come[i] == 0: continue\n",
    "                method_utility += possibility_correct - self.weight * (float(i) / self.collecting_deadline)\n",
    "                break\n",
    "            temp_method_utility += method_utility\n",
    "        average_method_utility = temp_method_utility / self.repeat\n",
    "        return average_method_utility\n",
    "\n",
    "    def deciding_by_majority_vote_with_poisson(self, possibility_correct, majority_vote_people):\n",
    "        temp_method_utility = 0\n",
    "        for n in range(self.repeat):\n",
    "            people_num = self.poisson[n]\n",
    "            when_people_come = self.simulate_when_people_come_list(people_num)\n",
    "            method_utility = 0\n",
    "            people_count = 0\n",
    "            if people_num < majority_vote_people: continue\n",
    "            for i in range(len(when_people_come)):\n",
    "                if when_people_come[i] == 0: continue\n",
    "                people_count += 1\n",
    "                if people_count == majority_vote_people:\n",
    "                    method_utility += (1 - self.relative_error_by_majority_vote(people_count, possibility_correct)) - self.weight * (float(i) / self.collecting_deadline)\n",
    "                    break\n",
    "            temp_method_utility += method_utility\n",
    "        average_method_utility = temp_method_utility / self.repeat\n",
    "        return average_method_utility\n",
    "\n",
    "    def deciding_by_half_opinion_with_poisson(self, possibility_correct, temp_people_num):\n",
    "        temp_method_utility = 0\n",
    "        for n in range(self.repeat):\n",
    "            people_num = self.poisson[n]\n",
    "            when_people_come = self.simulate_when_people_come_list(people_num)\n",
    "            method_utility = 0\n",
    "            people_count = 0\n",
    "            people_count_arr = []\n",
    "            if people_num < temp_people_num: continue\n",
    "            for i in range(len(when_people_come)):\n",
    "                if when_people_come[i] == 0: continue\n",
    "                people_count_arr.append(i)\n",
    "                people_count += 1\n",
    "                if people_count == temp_people_num:\n",
    "                    relative_error_array = self.relative_error_array_by_half_opinion(self.half_num(temp_people_num), possibility_correct)\n",
    "                    expected_error = sum(relative_error_array)\n",
    "                    average_index = 0\n",
    "                    for index in range(len(relative_error_array)):\n",
    "                        average_index += people_count_arr[self.half_num(temp_people_num) - 1 + index] * (relative_error_array[index] / expected_error)\n",
    "                    method_utility = (1 - expected_error) - self.weight * (float(average_index) / self.collecting_deadline)\n",
    "                    break\n",
    "            temp_method_utility += method_utility\n",
    "        average_method_utility = temp_method_utility / self.repeat\n",
    "        return average_method_utility\n",
    "\n",
    "    def deciding_by_time_limit_with_poisson(self, possibility_correct, time_limit):\n",
    "        temp_method_utility = 0\n",
    "        for n in range(self.repeat):\n",
    "            people_num = self.poisson[n]\n",
    "            when_people_come = self.simulate_when_people_come_list(people_num)\n",
    "            method_utility = 0\n",
    "            people_count = 0\n",
    "            for i in range(len(when_people_come)):\n",
    "                if i >= time_limit and people_count >= 1:\n",
    "                    method_utility = (1 - self.relative_error_by_majority_vote(people_count, possibility_correct)) - self.weight * (float(i) / self.collecting_deadline)\n",
    "                    break\n",
    "                if when_people_come[i] == 0: continue\n",
    "                people_count += 1\n",
    "            temp_method_utility += method_utility\n",
    "        average_method_utility = temp_method_utility / self.repeat\n",
    "        return average_method_utility\n"
   ]
  },
  {
   "cell_type": "code",
   "execution_count": 30,
   "metadata": {},
   "outputs": [],
   "source": [
    "class PlotGraph:\n",
    "\n",
    "    def test(self):\n",
    "        x = np.linspace(50, 100, 50)\n",
    "        y = 2 * x * x\n",
    "        plt.plot(x,y)\n",
    "        plt.show()\n"
   ]
  },
  {
   "cell_type": "code",
   "execution_count": 31,
   "metadata": {},
   "outputs": [
    {
     "data": {
      "image/png": "[encoded data removed]",
      "text/plain": [
       "<matplotlib.figure.Figure at 0x1a0f375590>"
      ]
     },
     "metadata": {},
     "output_type": "display_data"
    }
   ],
   "source": [
    "pg = PlotGraph()\n",
    "pg.test()"
   ]
  },
  {
   "cell_type": "code",
   "execution_count": null,
   "metadata": {
    "collapsed": true
   },
   "outputs": [],
   "source": []
  },
  {
   "cell_type": "code",
   "execution_count": null,
   "metadata": {
    "collapsed": true
   },
   "outputs": [],
   "source": []
  },
  {
   "cell_type": "code",
   "execution_count": null,
   "metadata": {
    "collapsed": true
   },
   "outputs": [],
   "source": []
  }
 ],
 "metadata": {
  "kernelspec": {
   "display_name": "Python 3",
   "language": "python",
   "name": "python3"
  },
  "language_info": {
   "codemirror_mode": {
    "name": "ipython",
    "version": 2
   },
   "file_extension": ".py",
   "mimetype": "text/x-python",
   "name": "python",
   "nbconvert_exporter": "python",
   "pygments_lexer": "ipython2",
   "version": "2.7.14"
  }
 },
 "nbformat": 4,
 "nbformat_minor": 2
}
