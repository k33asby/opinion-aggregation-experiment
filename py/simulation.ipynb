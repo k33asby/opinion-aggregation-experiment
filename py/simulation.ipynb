{
 "cells": [
  {
   "cell_type": "markdown",
   "metadata": {},
   "source": [
    "### library import"
   ]
  },
  {
   "cell_type": "code",
   "execution_count": 1,
   "metadata": {
    "collapsed": true
   },
   "outputs": [],
   "source": [
    "import numpy as np\n",
    "import pandas as pd\n",
    "import scipy.misc as scm\n",
    "from scipy.stats import poisson\n",
    "import scipy.integrate as integrate\n",
    "import math\n",
    "import random\n",
    "from decimal import *\n",
    "\n",
    "%matplotlib inline\n",
    "import matplotlib.pyplot as plt\n",
    "import seaborn as sns"
   ]
  },
  {
   "cell_type": "markdown",
   "metadata": {},
   "source": [
    "### modelingクラス"
   ]
  },
  {
   "cell_type": "code",
   "execution_count": 30,
   "metadata": {},
   "outputs": [],
   "source": [
    " class modeling:\n",
    "    # 1,準備\n",
    "    # Poisson過程\n",
    "    # 単位時間あたりの到着数 λ\n",
    "    # 時刻tまでにn人が到着する確率\n",
    "    def poisson_probability(self, n, t, lambda_poisson):\n",
    "        return Decimal(math.e)**(Decimal(-1)*Decimal(lambda_poisson) * Decimal(t)) * (Decimal(lambda_poisson) * Decimal(t))**Decimal(n) / Decimal(math.factorial(Decimal(n)))\n",
    "\n",
    "    # Poisson過程\n",
    "    # 累積確率\n",
    "    def cumulative_poisson_probability(self, n, t, lambda_poisson):\n",
    "        return np.sum(Decimal(math.e)**(Decimal(-1) * Decimal(lambda_poisson) * Decimal(t)) * (Decimal(lambda_poisson) * Decimal(t))**Decimal(i) / Decimal(math.factorial(Decimal(i))) for i in range(0, n + 1))\n",
    "\n",
    "    # Gamma分布\n",
    "    # 時刻tにn人目が到着する確率\n",
    "    def gamma_probability(self, n, t, lambda_poisson):\n",
    "        return Decimal(lambda_poisson)**Decimal(n) * Decimal(t)**(Decimal(n) - Decimal(1)) * Decimal(math.e)**(Decimal(-1)*Decimal(lambda_poisson) * Decimal(t)) / Decimal(math.factorial(Decimal(n) - Decimal(1)))\n",
    "\n",
    "    # Gamma分布\n",
    "    # 累積確率\n",
    "    def cumulative_gamma_probability(self, n, T, lambda_poisson):\n",
    "        cumulative_probability, abserr = integrate.quad(lambda t: self.gamma_probability(n, t, lambda_poisson), 0, Decimal(T))\n",
    "        return cumulative_probability\n",
    "\n",
    "    # 時刻Tまでにn人現われるときに， 時刻t(=< T)にm(=< n)人目が到着する確率g(m,n,t,T)\n",
    "    def g(self, m, n, t, T, lambda_poisson):\n",
    "        return (Decimal(lambda_poisson)**Decimal(n) / (Decimal(math.factorial(Decimal(m) - Decimal(1))) * Decimal(math.factorial(Decimal(n) - Decimal(m))))) \\\n",
    "         * Decimal(t)**(Decimal(m) - Decimal(1)) * (Decimal(T) - Decimal(t))**(Decimal(n) - Decimal(m)) * Decimal(math.e)**(Decimal(-1) * Decimal(lambda_poisson) * Decimal(T))\n",
    "\n",
    "    # 多数決による判定精度\n",
    "    # n人で多数決を行う場合の判定精度をacc(n)で表す\n",
    "    # 個人の判定精度をpとする\n",
    "    def acc_odd(self, n, p): # nが奇数2i-1のとき\n",
    "        i = int((n + 1) / 2)\n",
    "        return Decimal(sum(scm.comb(2 * i - 1, j) * p**(2 * i - 1 - j) * (1 - p)**j for j in range(i)))\n",
    "\n",
    "    def acc_even(self, n, p): # nが偶数2iのとき\n",
    "        i = int(n / 2)\n",
    "        return Decimal(sum(scm.comb(2 * i, j) * p**(2 * i - j) * (1 - p)**j for j in range(i)) + scm.comb(2 * i, i) * p**i * (1 - p)**i / 2)\n",
    "\n",
    "    def acc(self, n, p):\n",
    "        if n % 2 == 1:\n",
    "            return self.acc_odd(n, p)\n",
    "        else:\n",
    "            return self.acc_even(n, p)\n",
    "\n",
    "    # 2,単純な意見集約法\n",
    "\n",
    "    # 2.1,時刻優先意見集約法\n",
    "    # 時刻tまで待って多数決を行う\n",
    "    # 効用を予測精度と所要時間の差で表す\n",
    "    def time_priority_method(self, t, w, p, lambda_poisson):\n",
    "        if t == 0: return 0\n",
    "        return sum(self.poisson_probability(i, t, lambda_poisson) * self.acc(i, p) for i in range(1,200)) - (Decimal(w) * Decimal(t))\n",
    "\n",
    "    # 増減を調べる\n",
    "    def inc_and_dec_time_priority_method(self, w, p, lambda_poisson):\n",
    "        for t in range(1, 1000):\n",
    "            diff = self.time_priority_method(t + 1, w, p, lambda_poisson) - self.time_priority_method(t, w, p, lambda_poisson)\n",
    "            if diff < 0: return t\n",
    "\n",
    "    # 2.2, 投票数優先意見集約法\n",
    "    # n人集まるまで待って多数決を行う\n",
    "    # 効用を予測精度と所要時間の差で表す\n",
    "    def poll_priority_method(self, n, w, p, lambda_poisson):\n",
    "        if n == 0: return 0\n",
    "        return self.acc(n, p) - Decimal(integrate.quad(lambda t: Decimal(w) * Decimal(t) * self.gamma_probability(n, t, lambda_poisson), Decimal(0), Decimal(1000))[0])\n",
    "\n",
    "    # 増減を調べる\n",
    "    def inc_and_dec_poll_priority_method(self, w, p, lambda_poisson):\n",
    "        for n in range(1, 1000):\n",
    "            diff = self.poll_priority_method(2 * n + 1, w, p, lambda_poisson) - self.poll_priority_method(2 * n - 1, w, p, lambda_poisson)\n",
    "            if diff < 0: return 2 * n - 1\n",
    "            \n",
    "    # 2.3, 得票数優先意見集約法\n",
    "    # 先にk票集まった案に決定する\n",
    "    # 効用を予測精度と所要時間の差で表す\n",
    "    def vote_priority_method(self, k, w, p, lambda_poisson):\n",
    "        if k == 0: return 0\n",
    "        return sum((scm.comb(j - 1, j - k) * p**(k - 1) * (1 - p)**(j - k) * p * integrate.quad(lambda t: (Decimal(1) - Decimal(w) * Decimal(t)) * self.gamma_probability(j, t, lambda_poisson), Decimal(0), Decimal(1000))[0]) \\\n",
    "         + (scm.comb(j - 1, j - k) * p**(j - k) * (1 - p)**(k - 1) * (1 - p) * integrate.quad(lambda t: (Decimal(0) - Decimal(w) * Decimal(t)) * self.gamma_probability(j, t, lambda_poisson), Decimal(0), Decimal(1000))[0]) for j in range(k, 2 * k))\n",
    "    # 増減を調べる\n",
    "    def inc_and_dec_vote_priority_method(self, w, p, lambda_poisson):\n",
    "        for k in range(1, 1000):\n",
    "            diff = self.vote_priority_method(k + 1, w, p, lambda_poisson) - self.vote_priority_method(k, w, p, lambda_poisson)\n",
    "            if diff < 0: return k\n",
    "\n"
   ]
  },
  {
   "cell_type": "markdown",
   "metadata": {},
   "source": [
    "### plotGraphクラス"
   ]
  },
  {
   "cell_type": "code",
   "execution_count": 31,
   "metadata": {
    "collapsed": true
   },
   "outputs": [],
   "source": [
    "class plotGraph:\n",
    "\n",
    "    def __init__(self):\n",
    "        sns.set_style(\"whitegrid\")\n",
    "        self.model = modeling()\n",
    "\n",
    "    def plot_poisson(self, time, lambda_poisson):\n",
    "        x_axis = np.linspace(0, 2 * time * lambda_poisson, 2 * time * lambda_poisson + 1)\n",
    "        y_axis = []\n",
    "        for x in x_axis:\n",
    "            y_axis.append(self.model.poisson_probability(x, time, lambda_poisson))\n",
    "        plt.title('poisson time: {0} lambda: {1}'.format(time, lambda_poisson))\n",
    "        plt.xlabel('people')\n",
    "        plt.ylabel('probability')\n",
    "        plt.plot(x_axis, y_axis)\n",
    "        plt.show()\n",
    "\n",
    "    def plot_cumulative_poisson(self, time, lambda_poisson):\n",
    "        x_axis = np.linspace(0, 2 * time * lambda_poisson, 2 * time * lambda_poisson + 1)\n",
    "        y_axis = []\n",
    "        for x in x_axis:\n",
    "            y_axis.append(self.model.cumulative_poisson_probability(int(x), time, lambda_poisson))\n",
    "        plt.title('cumulative poisson time: {0} lambda: {1}'.format(time, lambda_poisson))\n",
    "        plt.xlabel('people')\n",
    "        plt.ylabel('probability')\n",
    "        plt.plot(x_axis, y_axis)\n",
    "        plt.show()\n",
    "\n",
    "    def plot_gamma(self, people, lambda_poisson):\n",
    "        x_axis = np.linspace(0, 2 * people / lambda_poisson , 2 * people / lambda_poisson + 1)\n",
    "        y_axis = []\n",
    "        for x in x_axis:\n",
    "            y_axis.append(self.model.gamma_probability(people, x, lambda_poisson))\n",
    "        plt.title('gamma people: {0} lambda: {1}'.format(people, lambda_poisson))\n",
    "        plt.xlabel('time')\n",
    "        plt.ylabel('probability')\n",
    "        plt.plot(x_axis, y_axis)\n",
    "        plt.show()\n",
    "\n",
    "    def plot_cumulative_gamma(self, people, lambda_poisson):\n",
    "        x_axis = np.linspace(0, 2 * people / lambda_poisson , 2 * people / lambda_poisson + 1)\n",
    "        y_axis = []\n",
    "        for x in x_axis:\n",
    "            y_axis.append(self.model.cumulative_gamma_probability(people, x, lambda_poisson))\n",
    "        plt.title('cumulative gamma people: {0} lambda: {1}'.format(people, lambda_poisson))\n",
    "        plt.xlabel('time')\n",
    "        plt.ylabel('probability')\n",
    "        plt.plot(x_axis, y_axis)\n",
    "        plt.show()\n",
    "\n",
    "    def plot_g(self, m, n, T, lambda_poisson):\n",
    "        x_axis = np.linspace(0, T, T + 1)\n",
    "        y_axis = []\n",
    "        for x in x_axis:\n",
    "            y_axis.append(self.model.g(m, n, x, T, lambda_poisson))\n",
    "        plt.title(\"g m: {0} n: {1} T:{2} lambda: {3}\".format(m, n, T, lambda_poisson))\n",
    "        plt.xlabel('time')\n",
    "        plt.ylabel('probability')\n",
    "        plt.plot(x_axis, y_axis)\n",
    "        plt.show()\n",
    "\n",
    "    def plot_time_priority(self, w, p, lambda_poisson):\n",
    "        x_axis = np.linspace(0, 50, 51)\n",
    "        y_axis = [self.model.time_priority_method(int(x), w, p, lambda_poisson) for x in x_axis]\n",
    "        plt.title('time priority method weight: {0} person_probability: {1}'.format(w, p))\n",
    "        plt.xlabel('time')\n",
    "        plt.ylabel('utility')\n",
    "        plt.plot(x_axis, y_axis)\n",
    "        plt.show()\n",
    "\n",
    "    def plot_poll_priority(self, w, p, lambda_poisson):\n",
    "        x_axis = np.linspace(50, 130, 81)\n",
    "        y_axis = [self.model.poll_priority_method(int(x), w, p, lambda_poisson) for x in x_axis]\n",
    "        plt.title('poll priority method weight: {0} person_probability: {1}'.format(w, p))\n",
    "        plt.xlabel('poll people')\n",
    "        plt.ylabel('utility')\n",
    "        plt.plot(x_axis, y_axis)\n",
    "        plt.show()\n",
    "\n",
    "    def plot_vote_priority(self, w, p, lambda_poisson):\n",
    "        x_axis = np.linspace(30, 50, 21)\n",
    "        y_axis = [self.model.vote_priority_method(int(x), w, p, lambda_poisson) for x in x_axis]\n",
    "        plt.title('vote priority method weight: {0} person_probability: {1}'.format(w, p))\n",
    "        plt.xlabel('require vote people')\n",
    "        plt.ylabel('utility')\n",
    "        plt.plot(x_axis, y_axis)\n",
    "        plt.show()\n",
    "\n",
    "    def plot_method1(self, w, p, lambda_poisson):\n",
    "        x_axis = np.linspace(0, 50, 51)\n",
    "        y_axis = [self.model.time_priority_method(int(x), w, p, lambda_poisson) for x in x_axis]\n",
    "        plt.title('method1 weight: {0} person_probability: {1}'.format(w, p))\n",
    "        plt.xlabel('time')\n",
    "        plt.ylabel('utility')\n",
    "        plt.plot(x_axis, y_axis)\n",
    "        plt.show()\n",
    "\n",
    "    def plot_method2(self, T1, w, p, lambda_poisson):\n",
    "        x_axis = np.linspace(0, 50, 51)\n",
    "        y_axis = [self.model.method2(T1,int(x), w, p, lambda_poisson) for x in x_axis]\n",
    "        plt.title('method2 T1: {0} weight: {1} person_probability: {2}'.format(T1, w, p))\n",
    "        plt.xlabel('poll people')\n",
    "        plt.ylabel('utility')\n",
    "        plt.plot(x_axis, y_axis)\n",
    "        plt.show()\n",
    "\n",
    "    def plot_method3(self, T1, T2, w, p, lambda_poisson):\n",
    "        x_axis = np.linspace(0, 50, 51)\n",
    "        y_axis = [self.model.method3(T1, T2, int(x), w, p, lambda_poisson) for x in x_axis]\n",
    "        plt.title('method3 T1: {0} T2: {1} weight: {2} person_probability: {3}'.format(T1, T2, w, p))\n",
    "        plt.xlabel('poll people')\n",
    "        plt.ylabel('utility')\n",
    "        plt.plot(x_axis, y_axis)\n",
    "        plt.show()\n",
    "\n",
    "    def plot_method4(self, T1, w, p, lambda_poisson):\n",
    "        x_axis = np.linspace(0, 14, 15)\n",
    "        y_axis = [self.model.method4(T1,int(x), w, p, lambda_poisson) for x in x_axis]\n",
    "        plt.title('method4 T1: {0} weight: {1} person_probability: {2}'.format(T1, w, p))\n",
    "        plt.xlabel('require vote people')\n",
    "        plt.ylabel('utility')\n",
    "        plt.plot(x_axis, y_axis)\n",
    "        plt.show()\n",
    "\n",
    "    def plot_method5(self, T1, T2, w, p, lambda_poisson):\n",
    "        x_axis = np.linspace(0, 50, 51)\n",
    "        y_axis = [self.model.method5(T1, T2, int(x), w, p, lambda_poisson) for x in x_axis]\n",
    "        plt.title('method5 T1: {0} T2: {1} weight: {2} person_probability: {3}'.format(T1, T2, w, p))\n",
    "        plt.xlabel('poll people')\n",
    "        plt.ylabel('utility')\n",
    "        plt.plot(x_axis, y_axis)\n",
    "        plt.show()"
   ]
  },
  {
   "cell_type": "markdown",
   "metadata": {},
   "source": [
    "### main"
   ]
  },
  {
   "cell_type": "code",
   "execution_count": 32,
   "metadata": {
    "collapsed": true,
    "scrolled": true
   },
   "outputs": [],
   "source": [
    "sns.set_style(\"whitegrid\")\n",
    "m = modeling()\n",
    "pg = plotGraph()\n",
    "\n",
    "w = 0.003\n",
    "p = 0.6\n",
    "lambda_poisson = 3\n",
    "\n",
    "# print \"------------時間優先------------\"\n",
    "# print m.inc_and_dec_time_priority_method(w, p, lambda_poisson)\n",
    "# print m.time_priority_method(m.inc_and_dec_time_priority_method(w, p, lambda_poisson), w, p, lambda_poisson)\n",
    "# print \"------------------------------------\"\n",
    "# print \"------------投票数優先------------\"\n",
    "# print m.inc_and_dec_poll_priority_method(w, p, lambda_poisson)\n",
    "# print m.poll_priority_method(m.inc_and_dec_poll_priority_method(w, p, lambda_poisson), w, p, lambda_poisson)\n",
    "# print \"------------------------------------\"\n",
    "# print \"------------得票数優先------------\"\n",
    "# print m.inc_and_dec_vote_priority_method(w, p, lambda_poisson)\n",
    "# print m.vote_priority_method(m.inc_and_dec_vote_priority_method(w, p, lambda_poisson), w, p, lambda_poisson)\n",
    "# print \"------------------------------------\"\n",
    "# print \"------------方法1------------\"\n",
    "# print m.inc_and_dec_method1(w, p, lambda_poisson)\n",
    "# print m.method1(m.inc_and_dec_method1(w, p, lambda_poisson), w, p, lambda_poisson)\n",
    "# print \"------------------------------------\"\n",
    "# print \"------------方法2------------\"\n",
    "# print m.inc_and_dec_method2(50, w, p, lambda_poisson)\n",
    "# print m.method2(50, m.inc_and_dec_method2(50, w, p, lambda_poisson), w, p, lambda_poisson)\n",
    "# print \"------------------------------------\"\n",
    "# print \"------------方法3------------\"\n",
    "# print m.inc_and_dec_method3(40, 20, w, p, lambda_poisson)\n",
    "# print m.method3(40, 20, m.inc_and_dec_method3(40, 20, w, p, lambda_poisson), w, p, lambda_poisson)\n",
    "# print \"------------------------------------\"\n",
    "# print \"------------方法4------------\"\n",
    "# print m.inc_and_dec_method4(3, w, p, lambda_poisson)\n",
    "# print m.method4(3, m.inc_and_dec_method4(3, w, p, lambda_poisson), w, p, lambda_poisson)\n",
    "# print \"------------------------------------\"\n"
   ]
  },
  {
   "cell_type": "code",
   "execution_count": 33,
   "metadata": {},
   "outputs": [
    {
     "data": {
      "image/png": "[encoded data removed]",
      "text/plain": [
       "<matplotlib.figure.Figure at 0x1a1d227850>"
      ]
     },
     "metadata": {},
     "output_type": "display_data"
    },
    {
     "data": {
      "image/png": "[encoded data removed]",
      "text/plain": [
       "<matplotlib.figure.Figure at 0x1a1d054a50>"
      ]
     },
     "metadata": {},
     "output_type": "display_data"
    },
    {
     "data": {
      "image/png": "[encoded data removed]",
      "text/plain": [
       "<matplotlib.figure.Figure at 0x1a1cdacd50>"
      ]
     },
     "metadata": {},
     "output_type": "display_data"
    },
    {
     "data": {
      "image/png": "[encoded data removed]",
      "text/plain": [
       "<matplotlib.figure.Figure at 0x1a1ce35a10>"
      ]
     },
     "metadata": {},
     "output_type": "display_data"
    }
   ],
   "source": [
    "w = 0.005\n",
    "p = 0.6\n",
    "lambda_poisson = 8\n",
    "\n",
    "# pg.plot_poisson(30,1)\n",
    "pg.plot_cumulative_poisson(5,5)\n",
    "# pg.plot_gamma(100,5)\n",
    "# pg.plot_cumulative_gamma(100, 1)\n",
    "# pg.plot_g(10, 20, 10, 2)\n",
    "\n",
    "pg.plot_time_priority(w, p, lambda_poisson)\n",
    "pg.plot_poll_priority(w, p, lambda_poisson)\n",
    "pg.plot_vote_priority(w, p, lambda_poisson)\n",
    "# pg.plot_method1(w, p, lambda_poisson)\n",
    "# pg.plot_method2(30, w, p, lambda_poisson)\n",
    "# pg.plot_method3(30, 20, w, p, lambda_poisson)\n",
    "# pg.plot_method4(15, 0.02, 0.6, 1)\n",
    "# pg.plot_method5(40, 40, 0.02, 0.6, 1)"
   ]
  },
  {
   "cell_type": "markdown",
   "metadata": {},
   "source": [
    "### 表を描画"
   ]
  },
  {
   "cell_type": "code",
   "execution_count": null,
   "metadata": {
    "collapsed": true
   },
   "outputs": [],
   "source": [
    "arr_2 = range(0, 10)\n",
    "m = modeling()\n",
    "\n",
    "w = 0.001\n",
    "p = 0.7\n",
    "lambda_poisson = 1\n",
    "\n",
    "fundamental_df = pd.DataFrame({\n",
    "    'A: time_priority': [m.time_priority_method(t, w, p, lambda_poisson) for t in arr_2],\n",
    "#     'B: poll_priority': [m.poll_priority_method(n, w, p, lambda_poisson) for n in arr_2],\n",
    "#     'C: vote_priority': [m.vote_priority_method(k, w, p, lambda_poisson) for k in arr_2],\n",
    "})\n",
    "\n",
    "# print m.time_priority_method(60, w, p, lambda_poisson)\n",
    "# print m.poll_priority_method(90, w, p, lambda_poisson)\n",
    "# print m.vote_priority_method(80, w, p, lambda_poisson)"
   ]
  },
  {
   "cell_type": "code",
   "execution_count": null,
   "metadata": {
    "collapsed": true
   },
   "outputs": [],
   "source": [
    "fundamental_df.style.highlight_max()"
   ]
  },
  {
   "cell_type": "code",
   "execution_count": null,
   "metadata": {
    "collapsed": true
   },
   "outputs": [],
   "source": [
    "arr = range(0, 15)\n",
    "m = modeling()\n",
    "\n",
    "w = 0.01\n",
    "p = 0.6\n",
    "lambda_poisson = 1\n",
    "\n",
    "\n",
    "m2_df = pd.DataFrame({\n",
    "    'a1': [m.method2(1, n, w, p, lambda_poisson) for n in arr],\n",
    "    'b2': [m.method2(2, n, w, p, lambda_poisson) for n in arr],\n",
    "    'c3': [m.method2(3, n, w, p, lambda_poisson) for n in arr],\n",
    "    'd4': [m.method2(4, n, w, p, lambda_poisson) for n in arr],\n",
    "    'e5': [m.method2(5, n, w, p, lambda_poisson) for n in arr],\n",
    "    'f6': [m.method2(6, n, w, p, lambda_poisson) for n in arr],\n",
    "    'g7': [m.method2(7, n, w, p, lambda_poisson) for n in arr],\n",
    "    'h8': [m.method2(8, n, w, p, lambda_poisson) for n in arr],\n",
    "    'i9': [m.method2(9, n, w, p, lambda_poisson) for n in arr],\n",
    "    'j10': [m.method2(10, n, w, p, lambda_poisson) for n in arr],\n",
    "    'k11': [m.method2(11, n, w, p, lambda_poisson) for n in arr],\n",
    "    'l12': [m.method2(12, n, w, p, lambda_poisson) for n in arr],\n",
    "    'm13': [m.method2(13, n, w, p, lambda_poisson) for n in arr],\n",
    "    'n14': [m.method2(14, n, w, p, lambda_poisson) for n in arr],\n",
    "    'o15': [m.method2(15, n, w, p, lambda_poisson) for n in arr],\n",
    "    'p18': [m.method2(18, n, w, p, lambda_poisson) for n in arr],\n",
    "    'q21': [m.method2(21, n, w, p, lambda_poisson) for n in arr],\n",
    "    'r24': [m.method2(24, n, w, p, lambda_poisson) for n in arr],\n",
    "    's27': [m.method2(27, n, w, p, lambda_poisson) for n in arr],\n",
    "    't30': [m.method2(30, n, w, p, lambda_poisson) for n in arr],\n",
    "})"
   ]
  },
  {
   "cell_type": "code",
   "execution_count": null,
   "metadata": {
    "collapsed": true
   },
   "outputs": [],
   "source": [
    "m2_df.style.highlight_max()"
   ]
  },
  {
   "cell_type": "code",
   "execution_count": null,
   "metadata": {
    "collapsed": true
   },
   "outputs": [],
   "source": [
    "arr = range(0, 15)\n",
    "m = modeling()\n",
    "\n",
    "w = 0.01\n",
    "p = 0.6\n",
    "lambda_poisson = 1\n",
    "\n",
    "m3_df = pd.DataFrame({\n",
    "    'a1': [m.method3(30,1, n, w, p, lambda_poisson) for n in arr],\n",
    "    'b2': [m.method3(30,2, n, w, p, lambda_poisson) for n in arr],\n",
    "    'c3': [m.method3(30,3, n, w, p, lambda_poisson) for n in arr],\n",
    "    'd4': [m.method3(30,4, n, w, p, lambda_poisson) for n in arr],\n",
    "    'e5': [m.method3(30,5, n, w, p, lambda_poisson) for n in arr],\n",
    "    'f6': [m.method3(30,6, n, w, p, lambda_poisson) for n in arr],\n",
    "    'g7': [m.method3(30,7, n, w, p, lambda_poisson) for n in arr],\n",
    "    'h8': [m.method3(30,8, n, w, p, lambda_poisson) for n in arr],\n",
    "    'i9': [m.method3(30,9, n, w, p, lambda_poisson) for n in arr],\n",
    "    'j10': [m.method3(30,10, n, w, p, lambda_poisson) for n in arr],\n",
    "    'k11': [m.method3(30,11, n, w, p, lambda_poisson) for n in arr],\n",
    "    'l12': [m.method3(30,12, n, w, p, lambda_poisson) for n in arr],\n",
    "    'm13': [m.method3(30,13, n, w, p, lambda_poisson) for n in arr],\n",
    "    'n14': [m.method3(30,14, n, w, p, lambda_poisson) for n in arr],\n",
    "    'o15': [m.method3(30,15, n, w, p, lambda_poisson) for n in arr],\n",
    "    'p16': [m.method3(30,16, n, w, p, lambda_poisson) for n in arr],\n",
    "    'q24': [m.method3(30,24, n, w, p, lambda_poisson) for n in arr],\n",
    "    'r26': [m.method3(30,26, n, w, p, lambda_poisson) for n in arr],\n",
    "    's28': [m.method3(30,28, n, w, p, lambda_poisson) for n in arr],\n",
    "    't30': [m.method3(30,30, n, w, p, lambda_poisson) for n in arr],\n",
    "})"
   ]
  },
  {
   "cell_type": "code",
   "execution_count": null,
   "metadata": {
    "collapsed": true
   },
   "outputs": [],
   "source": [
    "m3_df.style.highlight_max()"
   ]
  },
  {
   "cell_type": "code",
   "execution_count": null,
   "metadata": {
    "collapsed": true
   },
   "outputs": [],
   "source": [
    "# sns.set_style(\"whitegrid\")\n",
    "# pg = PlotGraph(50, 2)\n",
    "# pg.plot_error_possibility_graph(5)\n",
    "# pg.plot_error_possibility_graph_by_people_num()\n",
    "# pg.plot_utility_possibility_average_graph(11, 13, 17, 0.5)\n",
    "# pg.plot_utility_possibility_variance_graph(11, 13, 17, 0.5)\n",
    "# pg.plot_utility_weight_average_graph(0.7, 11, 13, 17)\n",
    "# pg.plot_utility_weight_variance_graph(0.7, 11, 13, 17)\n",
    "# pg.plot_utility_possibility_average_graph_for_single_method(0.5)\n",
    "# pg.plot_utility_possibility_variance_graph_for_single_method(0.5)\n",
    "# pg.plot_utility_weight_average_graph_with_uniform_distribution(50, 50, 11, 13, 17)\n",
    "# pg.plot_utility_weight_variance_graph_with_uniform_distribution(50, 50, 11, 13, 17)\n",
    "# pg.plot_utility_weight_average_graph_with_uniform_distribution_for_single_method(50, 50)\n",
    "# pg.plot_utility_weight_variance_graph_with_uniform_distribution_for_single_method(50, 50)"
   ]
  },
  {
   "cell_type": "markdown",
   "metadata": {},
   "source": [
    "### テスト"
   ]
  },
  {
   "cell_type": "code",
   "execution_count": null,
   "metadata": {
    "collapsed": true
   },
   "outputs": [],
   "source": [
    "m = modeling()\n",
    "\n",
    "# integrate g and poisson should be same\n",
    "# def temp_f(t):\n",
    "#     return m.g(4,10,t,5,2)\n",
    "# value, abserr = integrate.quad(temp_f, 0, 5)\n",
    "# print value\n",
    "# print m.poisson_probability(10,5,2)\n",
    "# print \"--------------------------------------------------\"\n",
    "\n",
    "# # p_sum plus g_value should be 1.0\n",
    "# p_sum = 0\n",
    "# for i in range(0, 50):\n",
    "#     p_sum += m.poisson_probability(i, 20, 3)\n",
    "# print p_sum\n",
    "# def test_g(t):\n",
    "#     return m.trial_g(50, t, 20, 3)\n",
    "# g_value, abserr = integrate.quad(test_g, 0, 20)\n",
    "# print g_value\n",
    "# print \"--------------------------------------------------\"\n",
    "\n",
    "# # method2 p_sum should be 1.0\n",
    "# def method2_p_sum(T1, n, w, lambda_poisson):\n",
    "#     p_sum = 0\n",
    "#     for i in range(0, n):\n",
    "#         p_sum += m.poisson_probability(i, T1, lambda_poisson)\n",
    "#     # 積分を行う\n",
    "#     value, abserr = integrate.quad(lambda t: m.gamma_probability(n, t, lambda_poisson), 0, T1)\n",
    "#     p_sum += value\n",
    "#     return p_sum\n",
    "# print method2_p_sum(20, 10, 0.02, 1)\n",
    "# print \"--------------------------------------------------\"\n",
    "\n",
    "# method3 p_sum should be 1.0\n",
    "# def method3_p_sum(T1, T2, n, w, lambda_poisson):\n",
    "#     p_sum = 0\n",
    "#     for i in range(0, n):\n",
    "#         p_sum += m.poisson_probability(i, T1, lambda_poisson)\n",
    "#     for i in range(n, 100):\n",
    "#         value_1, abserr = integrate.quad(lambda t: m.g(n, i, t, T1, lambda_poisson), 0, T2)\n",
    "#         value_2, abserr = integrate.quad(lambda t: m.g(n, i, t, T1, lambda_poisson), T2, T1)\n",
    "#         p_sum += value_1\n",
    "#         p_sum += value_2\n",
    "#     return p_sum\n",
    "# print method3_p_sum(30, 14, 10, 0.02, 1)\n",
    "# print \"--------------------------------------------------\"\n",
    "\n",
    "# vote priority method acc (頭がこんがらがったので確かめ)\n",
    "# def vote_priority_method(k, p):\n",
    "#     if k == 0: return 0\n",
    "#     acc = 0\n",
    "#     for j in range(k, 2 * k):\n",
    "#         acc += scm.comb(j - 1, j - k) * p**(k - 1) * (1 - p)**(j - k) * p\n",
    "#     return acc\n",
    "# print vote_priority_method(1, 0.9)\n",
    "# print \"--------------------------------------------------\"\n",
    "\n",
    "# method4 p_sum should be 1.\n",
    "# def method4_p_sum(T1, k, p, lambda_poisson):\n",
    "#     if k == 0: return 0\n",
    "#     p_sum = 0\n",
    "#     for i in range(0, k):\n",
    "#         for j in range(i, 2 * i):\n",
    "#             p_sum += m.poisson_probability(j, T1, lambda_poisson) * (scm.comb(j - 1, j - i) * p**(i - 1) * (1 - p)**(j - i) * p)\n",
    "#     # ----被積分関数を定義----\n",
    "#     def integrand_for_method4(t):\n",
    "#         integrand = 0\n",
    "#         for j in range(k, 2 * k):\n",
    "#             integrand += m.gamma_probability(j, t, lambda_poisson) * (scm.comb(j - 1, j - k) * p**(k - 1) * (1 - p)**(j - k) * p)\n",
    "#         return integrand\n",
    "#     # --------終わり--------\n",
    "#     #積分を行う\n",
    "#     value, abserr = integrate.quad(integrand_for_method4, 0, T1)\n",
    "#     p_sum += value\n",
    "#     return p_sum\n",
    "# print method4_p_sum(20, 30, 0.9, 1)"
   ]
  },
  {
   "cell_type": "code",
   "execution_count": null,
   "metadata": {
    "collapsed": true
   },
   "outputs": [],
   "source": [
    "# from decimal import *\n",
    "\n",
    "getcontext()\n",
    "getcontext().prec = 28\n",
    "\n",
    "print Decimal(2.0 ** 0.5)\n",
    "print 2.0 ** 0.5"
   ]
  },
  {
   "cell_type": "code",
   "execution_count": null,
   "metadata": {},
   "outputs": [],
   "source": [
    "%time\n",
    "test_sum = 0\n",
    "for i in range(10000000):\n",
    "    test_sum += i*i\n",
    "print test_sum\n"
   ]
  },
  {
   "cell_type": "code",
   "execution_count": null,
   "metadata": {},
   "outputs": [],
   "source": [
    "%time\n",
    "print sum(i*i for i in range(10000000))"
   ]
  },
  {
   "cell_type": "code",
   "execution_count": 15,
   "metadata": {},
   "outputs": [
    {
     "data": {
      "text/plain": [
       "100.0"
      ]
     },
     "execution_count": 15,
     "metadata": {},
     "output_type": "execute_result"
    }
   ],
   "source": [
    "integrate.quad(lambda t: 2 * t, 0, 10)[0]"
   ]
  },
  {
   "cell_type": "code",
   "execution_count": null,
   "metadata": {
    "collapsed": true
   },
   "outputs": [],
   "source": []
  },
  {
   "cell_type": "code",
   "execution_count": null,
   "metadata": {
    "collapsed": true
   },
   "outputs": [],
   "source": []
  }
 ],
 "metadata": {
  "kernelspec": {
   "display_name": "Python 3",
   "language": "python",
   "name": "python3"
  },
  "language_info": {
   "codemirror_mode": {
    "name": "ipython",
    "version": 2
   },
   "file_extension": ".py",
   "mimetype": "text/x-python",
   "name": "python",
   "nbconvert_exporter": "python",
   "pygments_lexer": "ipython2",
   "version": "2.7.14"
  }
 },
 "nbformat": 4,
 "nbformat_minor": 2
}
